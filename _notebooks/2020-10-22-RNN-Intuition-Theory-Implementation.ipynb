{
 "metadata": {
  "language_info": {
   "codemirror_mode": {
    "name": "ipython",
    "version": 3
   },
   "file_extension": ".py",
   "mimetype": "text/x-python",
   "name": "python",
   "nbconvert_exporter": "python",
   "pygments_lexer": "ipython3",
   "version": "3.8.5"
  },
  "orig_nbformat": 2,
  "kernelspec": {
   "name": "python385jvsc74a57bd06962e8177a867ea6557cf7474c33df498dec9bef7a9ea55788079e7d9c392bd8",
   "display_name": "Python 3.8.5 64-bit ('blog': conda)"
  },
  "metadata": {
   "interpreter": {
    "hash": "6962e8177a867ea6557cf7474c33df498dec9bef7a9ea55788079e7d9c392bd8"
   }
  }
 },
 "nbformat": 4,
 "nbformat_minor": 2,
 "cells": [
  {
   "source": [
    "# RNN's - Intuition, Theory, Implementation\n",
    "> In this blog post we will look over Recurrent Neural Networks. By working through the Theory and building Intuition we will be implementing a language model with PyTorch and fastai. This blog post is inspired by and expanded upon the fastai [book's](https://github.com/fastai/fastbook) chapter \"Language model from Scratch\".\n",
    "\n",
    "- toc: true\n",
    "- categories: [jupyter, NLP]\n",
    "- badges: true\n",
    "- hide: false\n",
    "- image: images/lm22.png"
   ],
   "cell_type": "markdown",
   "metadata": {}
  },
  {
   "source": [
    "# Problem Description\n",
    "\n",
    "> “Machines take me by surprise with great frequency.”\n",
    "― Alan Turing\n",
    "  \n",
    "Before we describe a solution let's describe the problem which gave rise to RNN's. The problem is sequences, i.e. how do we train models that understand and make use of sequential data. An example of sequential data is simply a sentence, text. The most essential difference from non-sequential data is that by changing the order inside a sequence we might change the whole meaning.\n",
    "\n",
    "How is sequential data useful? Research shows that powerful deep learning models trained on sequential data like text can implicitly learn a lot about our language. This ranges from simpler models being able to determine the sentiment of text (e.g. is a movie review \"positive\" or \"negative\") to a model being able to write a whole paragraph on a subject itself while being very convincing.\n",
    "\n",
    "\n",
    "\n",
    "Language is especially interesting because it offers such a broad portal for expression. This is why Alan Turing used Language/Conversation as a measuring stick for Intelligence in its paper *[“Computing Machinery And Intelligence”](https://www.csee.umbc.edu/courses/471/papers/turing.pdf)* and his famous *Turing Test*. \n",
    "\n",
    "\n"
   ],
   "cell_type": "markdown",
   "metadata": {}
  },
  {
   "source": [
    "Instead of thinking abstractly about sequential data and the problem of sequential data let's take a look at a real problem, the problem of predicting the next word in a sequence. We will be using a dataset called *HUMAN_NUMBERS*. The dataset is simply a letter representation of the first 10,000 numbers written in English."
   ],
   "cell_type": "markdown",
   "metadata": {}
  },
  {
   "cell_type": "code",
   "execution_count": null,
   "metadata": {},
   "outputs": [],
   "source": [
    "#collapse-hide\n",
    "!pip install fastai --upgrade"
   ]
  },
  {
   "cell_type": "code",
   "execution_count": 3,
   "metadata": {},
   "outputs": [
    {
     "output_type": "execute_result",
     "data": {
      "text/plain": [
       "'one . two . three . four . five . six . seven . eight . nine . ten . eleven . twelve . thirteen . fo'"
      ]
     },
     "metadata": {},
     "execution_count": 3
    }
   ],
   "source": [
    "\n",
    "from fastai.text.all import *\n",
    "path=untar_data(URLs.HUMAN_NUMBERS)\n",
    "lines=L()\n",
    "with open(path/'train.txt') as f: lines+= L(*f.readlines())\n",
    "with open(path/'valid.txt') as f: lines+= L(*f.readlines())\n",
    "text=' . '.join([l.strip() for l in lines]); text[:100]"
   ]
  },
  {
   "source": [
    "As with every data a machine learning model consumes, it should be expressed in the language of machines - numbers. How do we turn text to numbers? We do this in two steps: \n",
    "- tokenization\n",
    "- numericalization\n",
    "\n",
    "  "
   ],
   "cell_type": "markdown",
   "metadata": {}
  },
  {
   "source": [
    "Tokenization is just splitting a sequence into its subparts (in this case those will be words). This way we can look at each of its building blocks and how diverse are they.\n",
    "In our case we have"
   ],
   "cell_type": "markdown",
   "metadata": {}
  },
  {
   "cell_type": "code",
   "execution_count": 2,
   "metadata": {},
   "outputs": [
    {
     "output_type": "execute_result",
     "data": {
      "text/plain": [
       "['one', '.', 'two', '.', 'three', '.', 'four', '.', 'five', '.']"
      ]
     },
     "metadata": {},
     "execution_count": 2
    }
   ],
   "source": [
    "\n",
    "tokens=text.split(' '); tokens[:10]"
   ]
  },
  {
   "source": [
    "After we tokenize the whole text we basically have a vocabulary of tokens. Our whole text can actually be represented with the 30 tokens listed below."
   ],
   "cell_type": "markdown",
   "metadata": {}
  },
  {
   "cell_type": "code",
   "execution_count": 3,
   "metadata": {},
   "outputs": [
    {
     "output_type": "stream",
     "name": "stdout",
     "text": [
      "['one', '.', 'two', 'three', 'four', 'five', 'six', 'seven', 'eight', 'nine', 'ten', 'eleven', 'twelve', 'thirteen', 'fourteen', 'fifteen', 'sixteen', 'seventeen', 'eighteen', 'nineteen', 'twenty', 'thirty', 'forty', 'fifty', 'sixty', 'seventy', 'eighty', 'ninety', 'hundred', 'thousand']\n"
     ]
    }
   ],
   "source": [
    "vocab=L(*tokens).unique(); print(vocab)"
   ]
  },
  {
   "source": [
    "Now we do numericalization - we assign a number to each token and that's how we will represent them to our model. We will define the mapping with a dictionary "
   ],
   "cell_type": "markdown",
   "metadata": {}
  },
  {
   "cell_type": "code",
   "execution_count": 4,
   "metadata": {},
   "outputs": [
    {
     "output_type": "stream",
     "name": "stdout",
     "text": [
      "{'one': 0, '.': 1, 'two': 2, 'three': 3, 'four': 4, 'five': 5, 'six': 6, 'seven': 7, 'eight': 8, 'nine': 9, 'ten': 10, 'eleven': 11, 'twelve': 12, 'thirteen': 13, 'fourteen': 14, 'fifteen': 15, 'sixteen': 16, 'seventeen': 17, 'eighteen': 18, 'nineteen': 19, 'twenty': 20, 'thirty': 21, 'forty': 22, 'fifty': 23, 'sixty': 24, 'seventy': 25, 'eighty': 26, 'ninety': 27, 'hundred': 28, 'thousand': 29}\n"
     ]
    }
   ],
   "source": [
    "word2idx={w:i for i,w in enumerate(vocab)}\n",
    "print(word2idx)"
   ]
  },
  {
   "source": [
    "Our whole text is now a list of numbers:"
   ],
   "cell_type": "markdown",
   "metadata": {}
  },
  {
   "cell_type": "code",
   "execution_count": 5,
   "metadata": {},
   "outputs": [
    {
     "output_type": "execute_result",
     "data": {
      "text/plain": [
       "(#63095) [0,1,2,1,3,1,4,1,5,1...]"
      ]
     },
     "metadata": {},
     "execution_count": 5
    }
   ],
   "source": [
    "nums=L(word2idx[i] for i in tokens); nums"
   ]
  },
  {
   "source": [
    "> Note: These are only the most basic forms of tokenization and numericalization.  \n",
    "  \n",
    "  \n",
    "For a start we will want our model to predict the next word in a sequence having seen the three words before it. Ponder for a moment what this means. A model doesn't understand English, nor does it understand how counting in English works, it doesn't even know what a number is. This is somewhat equivalent to someone giving you a task to learn to count up to 10,000 in a foreign language without you knowing what counting means. We will create a supervised dataset for this by using sub-sequences of three words as our independent variables and the next word after each sub-sequence as the dependant variable."
   ],
   "cell_type": "markdown",
   "metadata": {}
  },
  {
   "cell_type": "code",
   "execution_count": 6,
   "metadata": {},
   "outputs": [
    {
     "output_type": "execute_result",
     "data": {
      "text/plain": [
       "(#21031) [(tensor([0, 1, 2]), tensor(1)),(tensor([1, 3, 1]), tensor(4)),(tensor([4, 1, 5]), tensor(1)),(tensor([1, 6, 1]), tensor(7)),(tensor([7, 1, 8]), tensor(1)),(tensor([1, 9, 1]), tensor(10)),(tensor([10,  1, 11]), tensor(1)),(tensor([ 1, 12,  1]), tensor(13)),(tensor([13,  1, 14]), tensor(1)),(tensor([ 1, 15,  1]), tensor(16))...]"
      ]
     },
     "metadata": {},
     "execution_count": 6
    }
   ],
   "source": [
    "seqs=L( (tensor(nums[i:i+3]),tensor(nums[i+3])) for i in range(0,len(nums)-4,3)); seqs"
   ]
  },
  {
   "cell_type": "code",
   "execution_count": 7,
   "metadata": {},
   "outputs": [],
   "source": [
    "cut=int(len(seqs)*0.8)\n",
    "dls=DataLoaders.from_dsets(seqs[:cut],seqs[cut:],bs=64,shuffle=False)"
   ]
  },
  {
   "source": [
    "# What Is Wrong With FFNN's?\n",
    "\n",
    "> “We can only see a short distance ahead, but we can see plenty there that needs to be done.” \n",
    "― Alan Turing\n",
    "  \n",
    "You might be asking yourself; okay... why can't we just use FFNN's for this problem? We can! And let's imagine we do!\n",
    "Take a look at the picture of a FFNN below. It has three input neurons as we want and it has one output neuron just like we would want, now what is the problem with that?\n",
    "\n"
   ],
   "cell_type": "markdown",
   "metadata": {}
  },
  {
   "source": [
    "\n",
    "![](my_icons/nn.jpg \"Representation of a Feed Forward Neural Network \")"
   ],
   "cell_type": "markdown",
   "metadata": {}
  },
  {
   "source": [
    "### No Concept Of Time Resembled In The Architecture\n",
    "\n",
    "Look at the connections between the neurons, everything is fed at once, observed at once, and connected to everything. Why is this bad? Wouldn't we weaken the network if we restricted it so that the neural network looks at inputs sequentially before deciding the output? We would, but that is exactly what we would want - if we would restrict the neural network like this we would eliminate the need for a neural network to LEARN the concept of time as it would already be there.\n",
    "\n",
    "> Tip: For an even better intuition imagine if you would watch a movie in a way so that all images appear on a huge screen at once rather than being displayed one at a time. It would be much harder to understand what is going on even though you can see more at once because you need to manually introduce the concept of time by forcefully looking at one image at a time. FFNN's having to learn this concept of time introduces an additional overhead that makes them inappropriate for sequences.\n",
    "\n"
   ],
   "cell_type": "markdown",
   "metadata": {}
  },
  {
   "source": [
    "### Inputs Can't Be Of Arbitrary Lengths\n",
    "\n",
    "FFNN's can only receive inputs of constant dimensionality. Sentences can be different lengths, we would like our architecture to be able to process any sequence regardless of length and map them to the same feature space. A text classifier wouldn't be of much use if it could only classify sentences of exactly, let's say, 20 words.\n",
    "\n",
    "In our example of human numbers we do have all the independent variables as vectors of length 3, but we will change that later.\n"
   ],
   "cell_type": "markdown",
   "metadata": {}
  },
  {
   "source": [
    "### No Memory Of Past Samples/Batches\n",
    "\n",
    "In text the preceding sentence may carry information valuable for the interpretation of the next one. Even if our FFNN could handle inputs of arbitrary lengths there would be no information carried from the past sentence to the current one. It would be useful if our NN would have some sort of memory to be able to handle this.\n"
   ],
   "cell_type": "markdown",
   "metadata": {}
  },
  {
   "source": [
    "# RNN\n",
    "\n",
    "> “A computer would deserve to be called intelligent if it could deceive a human into believing that it was human”\n",
    "― Alan Turing\n",
    "  \n",
    "    "
   ],
   "cell_type": "markdown",
   "metadata": {}
  },
  {
   "source": [
    "Let's first describe the RNN architecture:\n",
    " \n",
    "> Important: RNN's are  neural networks where we apply the same layer multiple times. \n",
    "  \n",
    "  \n",
    "That's basically it, there is nothing magical about it, yet this solves all of our mentioned problems to a degree. Let's apply this technique to our problem. We will reuse a single linear layer for each of our three independent variables.\n",
    "  \n",
    "We will also use an embedding layer before the linear layer and therefore map our integer representation of our words to a vector representation with learnable parameters. I won't go into detail about embeddings in this blog, I plan to release a post about embeddings so check my blog. Just think of embeddings as giving our model freedom to save some info about each of our words, currently represented by integers, by defining a mapping of each of them to a vector which is fed to the linear layer instead of the integer.\n",
    "\n",
    "Our model would now look like this:\n",
    "  \n",
    "\n",
    "\n",
    "\n"
   ],
   "cell_type": "markdown",
   "metadata": {}
  },
  {
   "source": [
    "![](my_icons/lm11.png \"Recurrent Neural Network - unrolled representation\")"
   ],
   "cell_type": "markdown",
   "metadata": {}
  },
  {
   "source": [
    "\n",
    "With the use of hashtags I pointed out that we are using the exact same *linear layer #1* multiple times in our model. You can either think of these *linear layers #1* as one and the same (which is how it's implemented in code) or you can think of them as linear layers having the same parameters, in other words, sharing parameters. This way at the beginning the *linear layer #1* only uses the first word's embedding to produce an output, then it feeds its output back to itself (or to the next layer being identical to itself) while adding to it the second word's embedding, then it takes that output, combines it with the third word's embedding and feeds it to itself again. This constant 'reuse' of the same layer during training forces the layer to learn handling any position in a sequence rather than being biased to one or the other. \n",
    "\n",
    "> \"The way that one word impacts the activations from previous words should not change depending on the position of a word. In other words, activation values will change as data moves through the layers, but the layer weights themselves will not change from layer to layer. So, a layer does not learn one sequence position; it must learn to handle all positions.\" ― Deep Learning for Coders with fastai & PyTorch {% fn 1 %}\n",
    "  \n",
    "The intermediary outputs that are actually fed back to the same layer are called hidden states. The *linear layer #2* is the final layer that produces a vector from the last hidden state. This vector's length is same as our vocab size and its each entry represents the confidence of each word being the output."
   ],
   "cell_type": "markdown",
   "metadata": {}
  },
  {
   "source": [
    "Alright, now how did this help? It did the following:\n",
    "- It introduced a concept of time by the model being fed a word per time step $t$. Each word is therefore interpreted in the context of the words preceding it.\n",
    "- It enabled the handling of arbitrary lengths as we could repeat our linear layer as much as we want.\n",
    "- It introduced a concept of memory by feeding our layer the output of the previous time step."
   ],
   "cell_type": "markdown",
   "metadata": {}
  },
  {
   "source": [
    "Implementation:\n"
   ],
   "cell_type": "markdown",
   "metadata": {}
  },
  {
   "cell_type": "code",
   "execution_count": 8,
   "metadata": {},
   "outputs": [],
   "source": [
    "class RNN1(Module):\n",
    "    def __init__(self,vocab_sz,n_hidden):\n",
    "        self.i_h=nn.Embedding(vocab_sz,n_hidden)\n",
    "        self.h_h=nn.Linear(n_hidden,n_hidden)\n",
    "        self.h_o=nn.Linear(n_hidden,vocab_sz)\n",
    "    \n",
    "    def forward(self,x):\n",
    "        h=self.i_h(x[:,0])\n",
    "        h=self.h_h(h)\n",
    "        h=F.relu(h)\n",
    "\n",
    "        h=h+self.i_h(x[:,1])\n",
    "        h=self.h_h(h)\n",
    "        h=F.relu(h)\n",
    "\n",
    "        h=h+self.i_h(x[:,2])\n",
    "        h=self.h_h(h)\n",
    "        h=F.relu(h)\n",
    "\n",
    "        h=self.h_o(h)\n",
    "\n",
    "        return h"
   ]
  },
  {
   "cell_type": "code",
   "execution_count": 9,
   "metadata": {},
   "outputs": [
    {
     "output_type": "display_data",
     "data": {
      "text/plain": "<IPython.core.display.HTML object>",
      "text/html": "<table border=\"1\" class=\"dataframe\">\n  <thead>\n    <tr style=\"text-align: left;\">\n      <th>epoch</th>\n      <th>train_loss</th>\n      <th>valid_loss</th>\n      <th>accuracy</th>\n      <th>time</th>\n    </tr>\n  </thead>\n  <tbody>\n    <tr>\n      <td>0</td>\n      <td>1.833544</td>\n      <td>1.998925</td>\n      <td>0.394818</td>\n      <td>00:01</td>\n    </tr>\n    <tr>\n      <td>1</td>\n      <td>1.409288</td>\n      <td>1.783905</td>\n      <td>0.464702</td>\n      <td>00:01</td>\n    </tr>\n    <tr>\n      <td>2</td>\n      <td>1.430346</td>\n      <td>1.669921</td>\n      <td>0.487045</td>\n      <td>00:01</td>\n    </tr>\n    <tr>\n      <td>3</td>\n      <td>1.393818</td>\n      <td>1.724913</td>\n      <td>0.424055</td>\n      <td>00:01</td>\n    </tr>\n  </tbody>\n</table>"
     },
     "metadata": {}
    }
   ],
   "source": [
    "bs=64\n",
    "learn=Learner(dls,RNN1(len(vocab),bs),loss_func=F.cross_entropy,metrics=accuracy)\n",
    "learn.fit_one_cycle(4,1e-3)"
   ]
  },
  {
   "source": [
    "> Note: The most common token in our dataset is the word 'thousand' which if we were to always predict as output would achieve 15% accuracy. This means our model is quite better than a Naive model that would only predict the most frequent token every time, increasing its odds of guessing the correct word."
   ],
   "cell_type": "markdown",
   "metadata": {}
  },
  {
   "source": [
    "Now that we understand how RNN's work let's look at their most common ilustration:\n",
    "\n"
   ],
   "cell_type": "markdown",
   "metadata": {}
  },
  {
   "source": [
    "![](my_icons/lm22.png \"Reccurent Neural Network - rolled representation \")"
   ],
   "cell_type": "markdown",
   "metadata": {}
  },
  {
   "source": [
    "We can simplify our code to resemble this:"
   ],
   "cell_type": "markdown",
   "metadata": {}
  },
  {
   "cell_type": "code",
   "execution_count": 10,
   "metadata": {},
   "outputs": [],
   "source": [
    "class RNN2(Module):\n",
    "    def __init__(self,vocab_sz,n_hidden):\n",
    "        self.i_h=nn.Embedding(vocab_sz,n_hidden)\n",
    "        self.h_h=nn.Linear(n_hidden,n_hidden)\n",
    "        self.h_o=nn.Linear(n_hidden,vocab_sz)\n",
    "\n",
    "    def forward(self,x):\n",
    "        h=0\n",
    "        for i in range(3):\n",
    "            h=h+self.i_h(x[:,i])\n",
    "            h=self.h_h(h)\n",
    "            h=F.relu(h)\n",
    "        \n",
    "        return self.h_o(h)"
   ]
  },
  {
   "cell_type": "code",
   "execution_count": 11,
   "metadata": {},
   "outputs": [
    {
     "output_type": "display_data",
     "data": {
      "text/plain": "<IPython.core.display.HTML object>",
      "text/html": "<table border=\"1\" class=\"dataframe\">\n  <thead>\n    <tr style=\"text-align: left;\">\n      <th>epoch</th>\n      <th>train_loss</th>\n      <th>valid_loss</th>\n      <th>accuracy</th>\n      <th>time</th>\n    </tr>\n  </thead>\n  <tbody>\n    <tr>\n      <td>0</td>\n      <td>1.765434</td>\n      <td>1.949799</td>\n      <td>0.465652</td>\n      <td>00:01</td>\n    </tr>\n    <tr>\n      <td>1</td>\n      <td>1.372692</td>\n      <td>1.805319</td>\n      <td>0.467079</td>\n      <td>00:01</td>\n    </tr>\n    <tr>\n      <td>2</td>\n      <td>1.391457</td>\n      <td>1.660083</td>\n      <td>0.489660</td>\n      <td>00:01</td>\n    </tr>\n    <tr>\n      <td>3</td>\n      <td>1.365470</td>\n      <td>1.680930</td>\n      <td>0.463989</td>\n      <td>00:01</td>\n    </tr>\n  </tbody>\n</table>"
     },
     "metadata": {}
    }
   ],
   "source": [
    "learn=Learner(dls,RNN2(len(vocab),bs),loss_func=F.cross_entropy,metrics=accuracy)\n",
    "learn.fit_one_cycle(4,1e-3)"
   ]
  },
  {
   "source": [
    "Now you understand how an RNN works. If you would like to know how to improve over this basic version let's continue."
   ],
   "cell_type": "markdown",
   "metadata": {}
  },
  {
   "source": [
    "# Improving The RNN\n",
    "\n"
   ],
   "cell_type": "markdown",
   "metadata": {}
  },
  {
   "source": [
    "## Maintaining The State Of An RNN\n",
    "\n",
    "> “We like to believe that Man is in some subtle way superior to the rest of creation. It is best if he can be shown to be necessarily superior, for then there is no danger of him losing his commanding position.”\n",
    "― Alan Turing"
   ],
   "cell_type": "markdown",
   "metadata": {}
  },
  {
   "source": [
    "Notice how our model's hidden state is initialized to 0 for every sample we process. It would be better if we would carry the information from the previous sample over to the next one. We can do that by moving the hidden state initialization to the constructor and maintaining it over samples. We just have to be careful to detach our computation graph so we don't backpropagate over 10,000 layers. We also need to change how we feed the data to the model, every sample has to continue on the next one."
   ],
   "cell_type": "markdown",
   "metadata": {}
  },
  {
   "cell_type": "code",
   "execution_count": 12,
   "metadata": {},
   "outputs": [],
   "source": [
    "class RNN3(Module):\n",
    "    def __init__(self,vocab_sz,n_hidden):\n",
    "        self.i_h=nn.Embedding(vocab_sz,n_hidden)\n",
    "        self.h_h=nn.Linear(n_hidden,n_hidden)\n",
    "        self.h_o=nn.Linear(n_hidden,vocab_sz)\n",
    "        self.h=0\n",
    "\n",
    "    def forward(self,x):\n",
    "        for i in range(3):\n",
    "            self.h=self.h+self.i_h(x[:,i])\n",
    "            self.h=self.h_h(self.h)\n",
    "            self.h=F.relu(self.h)\n",
    "        out=self.h_o(self.h)\n",
    "        self.h=self.h.detach()\n",
    "        return out\n",
    "\n",
    "    def reset(self): self.h=0"
   ]
  },
  {
   "cell_type": "code",
   "execution_count": 13,
   "metadata": {},
   "outputs": [],
   "source": [
    "def get_batches(ds,bs):\n",
    "    batch_count=len(ds) // bs\n",
    "    batches=L()\n",
    "    for i in range(batch_count): batches += L( ds[i+batch_count*j] for j in range(bs))\n",
    "    return batches\n",
    "\n",
    "cut=int(len(seqs)*0.8)\n",
    "dls=DataLoaders.from_dsets(\n",
    "    get_batches(seqs[:cut], bs),\n",
    "    get_batches(seqs[cut:],bs),\n",
    "    bs=bs, drop_last=True, shuffle=False\n",
    ")\n"
   ]
  },
  {
   "source": [],
   "cell_type": "markdown",
   "metadata": {}
  },
  {
   "cell_type": "code",
   "execution_count": 14,
   "metadata": {},
   "outputs": [
    {
     "output_type": "display_data",
     "data": {
      "text/plain": "<IPython.core.display.HTML object>",
      "text/html": "<table border=\"1\" class=\"dataframe\">\n  <thead>\n    <tr style=\"text-align: left;\">\n      <th>epoch</th>\n      <th>train_loss</th>\n      <th>valid_loss</th>\n      <th>accuracy</th>\n      <th>time</th>\n    </tr>\n  </thead>\n  <tbody>\n    <tr>\n      <td>0</td>\n      <td>2.396722</td>\n      <td>2.262319</td>\n      <td>0.462500</td>\n      <td>00:01</td>\n    </tr>\n    <tr>\n      <td>1</td>\n      <td>1.450032</td>\n      <td>1.849707</td>\n      <td>0.448558</td>\n      <td>00:01</td>\n    </tr>\n    <tr>\n      <td>2</td>\n      <td>1.256673</td>\n      <td>1.803644</td>\n      <td>0.414183</td>\n      <td>00:01</td>\n    </tr>\n    <tr>\n      <td>3</td>\n      <td>1.084279</td>\n      <td>1.692557</td>\n      <td>0.472356</td>\n      <td>00:01</td>\n    </tr>\n    <tr>\n      <td>4</td>\n      <td>0.997137</td>\n      <td>1.557435</td>\n      <td>0.510577</td>\n      <td>00:01</td>\n    </tr>\n    <tr>\n      <td>5</td>\n      <td>0.944075</td>\n      <td>1.430444</td>\n      <td>0.558654</td>\n      <td>00:01</td>\n    </tr>\n    <tr>\n      <td>6</td>\n      <td>0.916451</td>\n      <td>1.541630</td>\n      <td>0.558413</td>\n      <td>00:01</td>\n    </tr>\n    <tr>\n      <td>7</td>\n      <td>0.865630</td>\n      <td>1.551041</td>\n      <td>0.565865</td>\n      <td>00:01</td>\n    </tr>\n    <tr>\n      <td>8</td>\n      <td>0.843312</td>\n      <td>1.601054</td>\n      <td>0.564183</td>\n      <td>00:01</td>\n    </tr>\n    <tr>\n      <td>9</td>\n      <td>0.835393</td>\n      <td>1.549224</td>\n      <td>0.575721</td>\n      <td>00:01</td>\n    </tr>\n  </tbody>\n</table>"
     },
     "metadata": {}
    }
   ],
   "source": [
    "learn=Learner(dls,RNN3(len(vocab),bs),loss_func=F.cross_entropy,metrics=accuracy)\n",
    "learn.fit_one_cycle(10,1e-3)"
   ]
  },
  {
   "source": [
    "## Creating More Signal\n",
    "\n",
    "> “I believe that at the end of the century the use of words and general educated opinion will have altered so much that one will be able to speak of machines thinking without expecting to be contradicted.”\n",
    "― Alan Turing"
   ],
   "cell_type": "markdown",
   "metadata": {}
  },
  {
   "source": [
    "Currently we only predict a single output word for three input words. This limits the amount of signal we feed back to the network with backpropagation. If we would predict the next word after every word then the backpropagation could provide much more information for correct weight adaptation. Instead of feeding chunks of three words we will now use sequence length of 16."
   ],
   "cell_type": "markdown",
   "metadata": {}
  },
  {
   "cell_type": "code",
   "execution_count": 15,
   "metadata": {},
   "outputs": [],
   "source": [
    "sl=16\n",
    "seqs=L( (tensor(nums[i:i+sl]), tensor(nums[i+1:i+sl+1]))  for i in range(0,len(nums)-sl-1,sl))\n",
    "\n",
    "cut=int(len(seqs)*0.8)\n",
    "dls=DataLoaders.from_dsets(\n",
    "    get_batches(seqs[:cut], bs),\n",
    "    get_batches(seqs[cut:],bs),\n",
    "    bs=bs, drop_last=True, shuffle=False\n",
    ")"
   ]
  },
  {
   "cell_type": "code",
   "execution_count": 19,
   "metadata": {},
   "outputs": [],
   "source": [
    "class RNN4(Module):\n",
    "    def __init__(self, vocab_sz, n_hidden):\n",
    "        self.i_h=nn.Embedding(vocab_sz, n_hidden)\n",
    "        self.h_h=nn.Linear(n_hidden,n_hidden)\n",
    "        self.h_o=nn.Linear(n_hidden,vocab_sz)\n",
    "        self.h=0\n",
    "\n",
    "    def forward(self, x):\n",
    "        outs=[]\n",
    "        for i in range(sl):\n",
    "            self.h=self.h+self.i_h(x[:,i])\n",
    "            self.h=self.h_h(self.h)\n",
    "            self.h=F.relu(self.h)\n",
    "            outs.append(self.h_o(self.h))\n",
    "        self.h=self.h.detach()\n",
    "        return torch.stack(outs,dim=1)\n",
    "\n",
    "    def reset(self): self.h=0"
   ]
  },
  {
   "cell_type": "code",
   "execution_count": 20,
   "metadata": {},
   "outputs": [],
   "source": [
    "def loss_func(inp,targ):\n",
    "    return F.cross_entropy(inp.view(-1,len(vocab)), targ.view(-1))"
   ]
  },
  {
   "cell_type": "code",
   "execution_count": 21,
   "metadata": {},
   "outputs": [
    {
     "output_type": "display_data",
     "data": {
      "text/plain": "<IPython.core.display.HTML object>",
      "text/html": "<table border=\"1\" class=\"dataframe\">\n  <thead>\n    <tr style=\"text-align: left;\">\n      <th>epoch</th>\n      <th>train_loss</th>\n      <th>valid_loss</th>\n      <th>accuracy</th>\n      <th>time</th>\n    </tr>\n  </thead>\n  <tbody>\n    <tr>\n      <td>0</td>\n      <td>3.282630</td>\n      <td>3.128972</td>\n      <td>0.226807</td>\n      <td>00:00</td>\n    </tr>\n    <tr>\n      <td>1</td>\n      <td>2.394483</td>\n      <td>2.054682</td>\n      <td>0.459066</td>\n      <td>00:00</td>\n    </tr>\n    <tr>\n      <td>2</td>\n      <td>1.771564</td>\n      <td>1.961018</td>\n      <td>0.393311</td>\n      <td>00:01</td>\n    </tr>\n    <tr>\n      <td>3</td>\n      <td>1.449017</td>\n      <td>1.886496</td>\n      <td>0.489990</td>\n      <td>00:00</td>\n    </tr>\n    <tr>\n      <td>4</td>\n      <td>1.228446</td>\n      <td>1.729708</td>\n      <td>0.499268</td>\n      <td>00:00</td>\n    </tr>\n    <tr>\n      <td>5</td>\n      <td>1.065741</td>\n      <td>1.494743</td>\n      <td>0.559408</td>\n      <td>00:00</td>\n    </tr>\n    <tr>\n      <td>6</td>\n      <td>0.927685</td>\n      <td>1.429495</td>\n      <td>0.598145</td>\n      <td>00:00</td>\n    </tr>\n    <tr>\n      <td>7</td>\n      <td>0.802961</td>\n      <td>1.388741</td>\n      <td>0.597087</td>\n      <td>00:00</td>\n    </tr>\n    <tr>\n      <td>8</td>\n      <td>0.716347</td>\n      <td>1.358838</td>\n      <td>0.610189</td>\n      <td>00:00</td>\n    </tr>\n    <tr>\n      <td>9</td>\n      <td>0.652654</td>\n      <td>1.409269</td>\n      <td>0.621501</td>\n      <td>00:00</td>\n    </tr>\n    <tr>\n      <td>10</td>\n      <td>0.608551</td>\n      <td>1.405770</td>\n      <td>0.663411</td>\n      <td>00:00</td>\n    </tr>\n    <tr>\n      <td>11</td>\n      <td>0.563584</td>\n      <td>1.389074</td>\n      <td>0.661621</td>\n      <td>00:00</td>\n    </tr>\n    <tr>\n      <td>12</td>\n      <td>0.535806</td>\n      <td>1.442170</td>\n      <td>0.663818</td>\n      <td>00:00</td>\n    </tr>\n    <tr>\n      <td>13</td>\n      <td>0.513522</td>\n      <td>1.438936</td>\n      <td>0.654460</td>\n      <td>00:00</td>\n    </tr>\n    <tr>\n      <td>14</td>\n      <td>0.500440</td>\n      <td>1.416253</td>\n      <td>0.658773</td>\n      <td>00:00</td>\n    </tr>\n  </tbody>\n</table>"
     },
     "metadata": {}
    }
   ],
   "source": [
    "learn=Learner(dls, RNN4(len(vocab),bs), loss_func=loss_func, metrics=accuracy, cbs=ModelResetter)\n",
    "learn.fit_one_cycle(15,3e-3)"
   ]
  },
  {
   "source": [
    "# Going further\n",
    "\n",
    "Next topics that improve upon the mentioned concepts:\n",
    "- LSTM\n",
    "- GRU\n",
    "- Seq2Seq\n",
    "- Attention\n",
    "- Transformers\n",
    "\n",
    "Stay tuned!  \n",
    "\n",
    "  "
   ],
   "cell_type": "markdown",
   "metadata": {}
  },
  {
   "source": [
    "{{ 'Book by fastai: [Deep Learning for Coders with fastai and PyTorch](https://www.amazon.com/Deep-Learning-Coders-fastai-PyTorch/dp/1492045527)' | fndetail: 1 }}\n",
    "{{ 'Course by fastai:  [Practical Deep Learning for Coders](https://course.fast.ai/)' | fndetail: 2 }}"
   ],
   "cell_type": "markdown",
   "metadata": {}
  },
  {
   "cell_type": "code",
   "execution_count": null,
   "metadata": {},
   "outputs": [],
   "source": []
  }
 ]
}